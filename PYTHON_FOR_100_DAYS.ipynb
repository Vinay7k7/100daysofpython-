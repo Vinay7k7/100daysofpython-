{
 "cells": [
  {
   "cell_type": "markdown",
   "metadata": {},
   "source": [
    "## ▢THIS IS A 100 DAYS PYTHON CHALLENGE !"
   ]
  },
  {
   "cell_type": "markdown",
   "metadata": {},
   "source": [
    "### 🐍DAY - 1\n"
   ]
  },
  {
   "cell_type": "code",
   "execution_count": null,
   "metadata": {},
   "outputs": [],
   "source": [
    "print('Hello world!')\n",
    "#If we forgot to add a ')' or \"'\" then we will get the Syntaxerror ! "
   ]
  },
  {
   "cell_type": "code",
   "execution_count": null,
   "metadata": {},
   "outputs": [],
   "source": [
    "print('Day - Python Print Function')\n",
    "print('The function is declared like this:')\n",
    "print('print(\\'what to print\\')')\n",
    "#If we add a space between the print-statement the we will get the IndentationError !"
   ]
  },
  {
   "cell_type": "code",
   "execution_count": null,
   "metadata": {},
   "outputs": [],
   "source": [
    "print('hello man\\nhello baby') #'\\n' this will break the line and prints the other line in next line !\n",
    "print('hi'+'man') #'+' this will concatenate the strings if we use it for with the strings\n",
    "print(\"hi \"+ input(\"hi man what is your name:\") +\" how are you today\") #We can use the input() statement directly inside the print() \n"
   ]
  },
  {
   "cell_type": "code",
   "execution_count": null,
   "metadata": {},
   "outputs": [],
   "source": [
    "#Band name generator:-\n",
    "print('Welcome to the Band Name Generator.')\n",
    "city_name = input('What\\'s name of the city you grew up in?\\n')\n",
    "pet_name = input('What\\'s your pet\\'s name?\\n')\n",
    "print('Your band name could be {0} {1}'.format(city_name, pet_name))\n"
   ]
  },
  {
   "cell_type": "markdown",
   "metadata": {},
   "source": [
    "### 🐍DAY - 2"
   ]
  },
  {
   "cell_type": "code",
   "execution_count": null,
   "metadata": {},
   "outputs": [],
   "source": [
    "print(\"This is the list i am talking about \",list(map(lambda a:ord(a), list(input('enter your name: ')))))"
   ]
  },
  {
   "cell_type": "code",
   "execution_count": null,
   "metadata": {},
   "outputs": [],
   "source": [
    "print('Yep this is it: ',[chr(a) for a in range(48,100)])"
   ]
  },
  {
   "cell_type": "code",
   "execution_count": null,
   "metadata": {},
   "outputs": [],
   "source": [
    "print({i:chr(i) for i in range(65,91)})"
   ]
  },
  {
   "cell_type": "code",
   "execution_count": null,
   "metadata": {},
   "outputs": [],
   "source": [
    "#### --> Tip calculator !\n",
    "print(\"Welcome to the tip calculator.\")\n",
    "k1 = float(input(\"What was the total bill? Rs:- \"))\n",
    "k2 = float(input('What percentage tip would you like to give? 10, 12, or 15? :- '))\n",
    "k3 = float(input('How many people to split the bill? :- '))\n",
    "k4 =(k1*(k2 / 100))+k1\n",
    "print(f'Each person should pay: Rs.:-{round(k4/k3,2):.2f}')"
   ]
  },
  {
   "cell_type": "code",
   "execution_count": null,
   "metadata": {},
   "outputs": [],
   "source": [
    "print((0.1 + 0.1 + 0.1) == 0.3)\n"
   ]
  },
  {
   "cell_type": "code",
   "execution_count": null,
   "metadata": {},
   "outputs": [],
   "source": [
    "print(123_9389_23) #The '_' will be ignored by the compiler ! and prints this out_put---->{123938923}\n"
   ]
  },
  {
   "cell_type": "code",
   "execution_count": null,
   "metadata": {},
   "outputs": [],
   "source": [
    "k1 = '234_45_12'\n",
    "print(int(k1))"
   ]
  },
  {
   "cell_type": "code",
   "execution_count": null,
   "metadata": {},
   "outputs": [],
   "source": [
    "kk ='99_0_'\n",
    "print(int(kk))"
   ]
  },
  {
   "cell_type": "code",
   "execution_count": null,
   "metadata": {},
   "outputs": [],
   "source": [
    "import functools\n",
    "\n",
    "k1 = input(\"Enter the number : \")\n",
    "print(list(k1))\n",
    "print(functools.reduce(lambda x,y: int(x)+int(y),list(k1)))"
   ]
  },
  {
   "cell_type": "code",
   "execution_count": null,
   "metadata": {},
   "outputs": [],
   "source": [
    "print(3+3*3/3-3) \n",
    "print(3*3+3/3-3)#In this the asthmatic order is taken place using the 'PEMDAS' and ' left to right ' (),**,{*,/},{+,-} and also the process takes place from L---> R\n",
    "print(round(5.8789,2)) #This will give a round value at two decimal places ! --> 5.88\n",
    "print(4/2)#--> 2.0 a float\n",
    "print(4//2)#--> 2 a int in this '//' is a flor division which given the int !"
   ]
  },
  {
   "cell_type": "code",
   "execution_count": null,
   "metadata": {},
   "outputs": [],
   "source": [
    "height = input('Your height is :')\n",
    "weight = input('Your weight is :')\n",
    "weight_as_int = int(weight)\n",
    "height_as_float = float(height) \n",
    "BMI = weight_as_int / height_as_float **2\n",
    "\n",
    "print(f'Your BMI readings are : {int(BMI)}')"
   ]
  },
  {
   "cell_type": "code",
   "execution_count": null,
   "metadata": {},
   "outputs": [],
   "source": [
    "#  --> no of weeks in your life !\n",
    "age = int(input())\n",
    "year = 90 - age\n",
    "weeks = year * 52\n",
    "print(f'you have {weeks} weeks !')"
   ]
  },
  {
   "cell_type": "markdown",
   "metadata": {},
   "source": [
    "### 🐍DAY - 3"
   ]
  },
  {
   "cell_type": "code",
   "execution_count": null,
   "metadata": {},
   "outputs": [],
   "source": [
    "if ((1.0+1.0+1.0) == 3.0):\n",
    "    print('it\\'s equal')\n",
    "else:\n",
    "    print('it is not equal!')\n",
    "\n",
    "    "
   ]
  },
  {
   "cell_type": "code",
   "execution_count": null,
   "metadata": {},
   "outputs": [],
   "source": [
    "tolerance = 1e-10  # Define a tolerance level for comparison\n",
    "\n",
    "if abs((1.0 + 1.0 + 1.0) - 3.0) < tolerance:\n",
    "    print('Approximately equal')\n",
    "else:\n",
    "    print('Not equal')\n"
   ]
  },
  {
   "cell_type": "code",
   "execution_count": null,
   "metadata": {},
   "outputs": [],
   "source": [
    "k1 = int(input(\"Enter the number :- \"))\n",
    "k2 = str(k1)\n",
    "k3 = sum(int(i) for i in k2)\n",
    "print(k3)"
   ]
  },
  {
   "cell_type": "code",
   "execution_count": null,
   "metadata": {},
   "outputs": [],
   "source": [
    "def sum_of_digits(number):\n",
    "    digit_sum = 0\n",
    "    while number > 0:\n",
    "        digit_sum += number % 10  # Add the rightmost digit to the sum\n",
    "        number //= 10  # Remove the rightmost digit\n",
    "    return digit_sum\n",
    "\n",
    "# Example usage:\n",
    "number = int(input(\"Enter the number :- \"))\n",
    "result = sum_of_digits(number)\n",
    "print(f\"The sum of digits in the number {number} is: {result}\")\n"
   ]
  },
  {
   "cell_type": "code",
   "execution_count": null,
   "metadata": {},
   "outputs": [],
   "source": [
    "k1 = 123\n",
    "while k1>0:\n",
    "    print(k1%10)#This will give the last number in the given number !\n",
    "    k1 = k1//10#This will give the remaining numbers other than the last number !\n",
    "    "
   ]
  },
  {
   "cell_type": "code",
   "execution_count": null,
   "metadata": {},
   "outputs": [],
   "source": [
    "height = float(input('Enter your height!'))\n",
    "weight = int(input('Enter your weight!'))\n",
    "bmi = weight/(height**2)\n",
    "if bmi <18.5:\n",
    "    print(f'Your BMI is {bmi}, you are underweight')\n",
    "elif bmi <25:\n",
    "    print(f\"your BMI is {bmi}, you have a normal weight\")\n",
    "elif bmi < 30:\n",
    "    print(f\"Your BMI is {bmi}, you are slightly overweight\")\n",
    "elif bmi <35:\n",
    "    print(f\"Your BMI is {bmi}, you are obese\")\n",
    "else:\n",
    "    print(f\"your BMI iis {bmi}, you are clinically obese!\")"
   ]
  },
  {
   "cell_type": "code",
   "execution_count": null,
   "metadata": {},
   "outputs": [],
   "source": [
    "## The given year is a leap year or not !\n",
    "year = int(input(\"Enter the year:- \"))\n",
    "if year%4 == 0:\n",
    "    if year%100 !=0:\n",
    "        print (\"The given year is a leap year\")\n",
    "    else:\n",
    "        if year%400 ==0:\n",
    "            print(\"The given year is a leap year\")\n",
    "        else:\n",
    "            print(\"The given year is not a leap year!\")\n",
    "else:\n",
    "    print(\"The given year is not a leap year!\")        "
   ]
  },
  {
   "cell_type": "code",
   "execution_count": null,
   "metadata": {},
   "outputs": [],
   "source": [
    "## The given year is a leap year or not !\n",
    "year = int(input(\"Enter the year:- \"))\n",
    "if (year%4 ==0 and year%100 !=0) or (year%4 ==0 and year%100 ==0 and year%400 ==0):\n",
    "    print('it is a leap year !')\n",
    "else:\n",
    "    print(\"it is not a leap year !\")"
   ]
  },
  {
   "cell_type": "code",
   "execution_count": null,
   "metadata": {},
   "outputs": [],
   "source": [
    "#Rollercoaster Ticket counter !\n",
    "print('Welcome to rollercoaster!')\n",
    "h = int(input('Enter your height :- '))\n",
    "bill = 0\n",
    "if h >= 120:\n",
    "    print('you can ride the rollercoaster!')\n",
    "    age = int(input(\"Enter your age :- \"))\n",
    "    if age <12:\n",
    "        bill = 5\n",
    "        print('child tickets are $5.')\n",
    "    elif age <=18:\n",
    "        bill = 7\n",
    "        print('youth tickets are $7.')\n",
    "    elif age >=45 and age <= 55:\n",
    "        bill = 0\n",
    "        print('senior citizen tickets are free.')\n",
    "    else:\n",
    "        bill = 12\n",
    "        print('Adult tickets are $12.')\n",
    "    ph = input(\"Do u want a pic :- \")\n",
    "    if ph in ['Y','y','Yes','yes','YES']:\n",
    "        bill += 3\n",
    "\n",
    "    print(f\"your final BIll is {bill}\")\n",
    "\n",
    "else:\n",
    "    print(\"sorry you cannot ride in rollercoaster ! :( \")\n"
   ]
  },
  {
   "cell_type": "markdown",
   "metadata": {},
   "source": [
    "### 🐍DAY - 4"
   ]
  },
  {
   "cell_type": "code",
   "execution_count": null,
   "metadata": {},
   "outputs": [],
   "source": [
    "import random as rd #This is a python module !\n",
    "ran_mod = rd.randint(1,10)\n",
    "print(ran_mod)"
   ]
  },
  {
   "cell_type": "code",
   "execution_count": null,
   "metadata": {},
   "outputs": [],
   "source": [
    "import random as rd\n",
    "ran_fl = rd.random()#This will give a random float value between 0 and 1 but inclusive of 0 but exclusive of 1 !\n",
    "print(ran_fl)"
   ]
  },
  {
   "cell_type": "code",
   "execution_count": null,
   "metadata": {},
   "outputs": [],
   "source": [
    "import random as rd\n",
    "wh = rd.randint(0,1)#Generates a random integer within the specified range !\n",
    "if wh == 0:\n",
    "    print('Heads!')\n",
    "else:\n",
    "    print('Tails!')"
   ]
  },
  {
   "cell_type": "code",
   "execution_count": null,
   "metadata": {},
   "outputs": [],
   "source": [
    "names=['vinay','kumar','vinay','sai','raj']\n",
    "print(names.count('vinay'))\n",
    "print(names.index('vinay'))\n",
    "names.insert(2,'sumanth')\n",
    "print(names.pop(2))\n",
    "names.remove('vinay')\n",
    "names.clear()\n",
    "print(names)\n"
   ]
  },
  {
   "cell_type": "code",
   "execution_count": null,
   "metadata": {},
   "outputs": [],
   "source": [
    "#Random person in a list!\n",
    "import random as rd\n",
    "k1 = input('Enter your names :- ').split(',')\n",
    "k2 = rd.choice(k1)#Returns a randomly selected element from a non-empty sequence (list, tuple, etc.).!\n",
    "print(k2)"
   ]
  },
  {
   "cell_type": "code",
   "execution_count": null,
   "metadata": {},
   "outputs": [],
   "source": [
    "names=['vinay','kumar','vinay','sai','raj']\n",
    "print(rd.uniform(1,4))#It returns a floating point number in the given range !\n",
    "print(rd.randrange(5, 9))\n",
    "print(rd.sample(names,2))#Returns a k length list of unique elements chosen from the population sequence without replacement (where k <= len(population)).!\n",
    "print(rd.shuffle(names)) #Shuffles the elements of a sequence x in place.!\n",
    "print(names)#This is the newly shuffled list !"
   ]
  },
  {
   "cell_type": "code",
   "execution_count": null,
   "metadata": {},
   "outputs": [],
   "source": [
    "l1 = [' ',' ',' ']\n",
    "l2 = [' ',' ',' ']\n",
    "l3 = [' ',' ',' ']\n",
    "map=[l1,l2,l3]\n",
    "p1 = input('select any alphabets among this \"a,b,c\" :- ').lower()\n",
    "p2 = int(input('select any number among this \"1,2,3\" :- '))\n",
    "al = ['a','b','c']\n",
    "nm = [1,2,3]\n",
    "if p1 in al and p2 in nm:\n",
    "    k1 = al.index(str(p1))\n",
    "    k2 = nm.index(p2)\n",
    "\n",
    "    map[k1][k2]='X'\n",
    "    print(f\"{l1}\\n{l2}\\n{l3}\")"
   ]
  },
  {
   "cell_type": "code",
   "execution_count": null,
   "metadata": {},
   "outputs": [],
   "source": [
    "#MY rock paper scissors Game !\n",
    "\n",
    "import random as rd\n",
    "rock = \"\"\"\n",
    "    _______\n",
    "---'   ____)\n",
    "      (_____)\n",
    "      (_____)\n",
    "      (____)\n",
    "---.__(___)\n",
    "\"\"\"\n",
    "paper = \"\"\"\n",
    "     _______\n",
    "---'    ____)____\n",
    "           ______)\n",
    "          _______)\n",
    "         _______)\n",
    "---.__________)\n",
    "\"\"\"\n",
    "scissors = \"\"\"\n",
    "    _______\n",
    "---'   ____)____\n",
    "          ______)\n",
    "       __________)\n",
    "      (____)\n",
    "---.__(___)\n",
    "\"\"\"\n",
    "modes = [rock, paper,scissors]\n",
    "print(\"____Welcome to the Rock Paper Scissor Game !____\")\n",
    "us_c = int(input('Enter your chose among rock -->0, paper -->1 and scissor -->2 :-'))\n",
    "cp_c = rd.randint(0,2)\n",
    "if us_c >=3:\n",
    "    print('You Have chosen an invalid choice so please play the game correctly!')\n",
    "else:\n",
    "    print(f'YOUR CHOICE IS \\n{modes[us_c]}')\n",
    "    print(\"AND\")\n",
    "    print(f'COMPUTER CHOICE IS \\n{modes[cp_c]}')\n",
    "    if us_c ==2 and cp_c == 0:\n",
    "        \n",
    "        print('You have lost the game !')\n",
    "    elif us_c > cp_c:\n",
    "        print('You have won the game !')\n",
    "    elif cp_c > us_c:\n",
    "        print(\"You have lost the game !\")\n",
    "    elif us_c == cp_c:\n",
    "        print(\"The Game is Draw !\")\n",
    "\n",
    "    "
   ]
  }
 ],
 "metadata": {
  "kernelspec": {
   "display_name": "Python 3",
   "language": "python",
   "name": "python3"
  },
  "language_info": {
   "codemirror_mode": {
    "name": "ipython",
    "version": 3
   },
   "file_extension": ".py",
   "mimetype": "text/x-python",
   "name": "python",
   "nbconvert_exporter": "python",
   "pygments_lexer": "ipython3",
   "version": "3.9.13"
  }
 },
 "nbformat": 4,
 "nbformat_minor": 2
}
