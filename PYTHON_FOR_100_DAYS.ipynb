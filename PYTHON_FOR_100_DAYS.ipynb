{
 "cells": [
  {
   "cell_type": "markdown",
   "metadata": {},
   "source": [
    "## ▢THIS IS A 100 DAYS PYTHON CHALLENGE !"
   ]
  },
  {
   "cell_type": "code",
   "execution_count": null,
   "metadata": {},
   "outputs": [],
   "source": [
    "print(\"\"\"\n",
    "____    ____  __  .__   __.      ___   ____    ____       \n",
    "\\   \\  /   / |  | |  \\ |  |     /   \\  \\   \\  /   /       \n",
    " \\   \\/   /  |  | |   \\|  |    /  ^  \\  \\   \\/   /        \n",
    "  \\      /   |  | |  . `  |   /  /_\\  \\  \\_    _/         \n",
    "   \\    /    |  | |  |\\   |  /  _____  \\   |  |           \n",
    "    \\__/     |__| |__| \\__| /__/     \\__\\  |__|           \n",
    "                                                          \n",
    " __  ___  __    __  .___  ___.      ___      .______      \n",
    "|  |/  / |  |  |  | |   \\/   |     /   \\     |   _  \\     \n",
    "|  '  /  |  |  |  | |  \\  /  |    /  ^  \\    |  |_)  |    \n",
    "|    <   |  |  |  | |  |\\/|  |   /  /_\\  \\   |      /     \n",
    "|  .  \\  |  `--'  | |  |  |  |  /  _____  \\  |  |\\  \\----.\n",
    "|__|\\__\\  \\______/  |__|  |__| /__/     \\__\\ | _| `._____|\n",
    "      \n",
    "      \"\"\")"
   ]
  },
  {
   "cell_type": "markdown",
   "metadata": {},
   "source": [
    "### 🐍DAY - 1\n"
   ]
  },
  {
   "cell_type": "code",
   "execution_count": null,
   "metadata": {},
   "outputs": [],
   "source": [
    "print('Hello world!')\n",
    "#If we forgot to add a ')' or \"'\" then we will get the Syntaxerror ! "
   ]
  },
  {
   "cell_type": "code",
   "execution_count": null,
   "metadata": {},
   "outputs": [],
   "source": [
    "print('Day - Python Print Function')\n",
    "print('The function is declared like this:')\n",
    "print('print(\\'what to print\\')')\n",
    "#If we add a space between the print-statement the we will get the IndentationError !"
   ]
  },
  {
   "cell_type": "code",
   "execution_count": null,
   "metadata": {},
   "outputs": [],
   "source": [
    "print('hello man\\nhello baby') #'\\n' this will break the line and prints the other line in next line !\n",
    "print('hi'+'man') #'+' this will concatenate the strings if we use it for with the strings\n",
    "print(\"hi \"+ input(\"hi man what is your name:\") +\" how are you today\") #We can use the input() statement directly inside the print() \n"
   ]
  },
  {
   "cell_type": "code",
   "execution_count": null,
   "metadata": {},
   "outputs": [],
   "source": [
    "#Band name generator:-\n",
    "print('Welcome to the Band Name Generator.')\n",
    "city_name = input('What\\'s name of the city you grew up in?\\n')\n",
    "pet_name = input('What\\'s your pet\\'s name?\\n')\n",
    "print('Your band name could be {0} {1}'.format(city_name, pet_name))\n"
   ]
  },
  {
   "cell_type": "markdown",
   "metadata": {},
   "source": [
    "### 🐍DAY - 2"
   ]
  },
  {
   "cell_type": "code",
   "execution_count": null,
   "metadata": {},
   "outputs": [],
   "source": [
    "print(\"This is the list i am talking about \",list(map(lambda a:ord(a), list(input('enter your name: ')))))"
   ]
  },
  {
   "cell_type": "code",
   "execution_count": null,
   "metadata": {},
   "outputs": [],
   "source": [
    "print('Yep this is it: ',[chr(a) for a in range(48,100)])"
   ]
  },
  {
   "cell_type": "code",
   "execution_count": null,
   "metadata": {},
   "outputs": [],
   "source": [
    "print({i:chr(i) for i in range(65,91)})"
   ]
  },
  {
   "cell_type": "code",
   "execution_count": null,
   "metadata": {},
   "outputs": [],
   "source": [
    "#### --> Tip calculator !\n",
    "print(\"Welcome to the tip calculator.\")\n",
    "k1 = float(input(\"What was the total bill? Rs:- \"))\n",
    "k2 = float(input('What percentage tip would you like to give? 10, 12, or 15? :- '))\n",
    "k3 = float(input('How many people to split the bill? :- '))\n",
    "k4 =(k1*(k2 / 100))+k1\n",
    "print(f'Each person should pay: Rs.:-{round(k4/k3,2):.2f}')"
   ]
  },
  {
   "cell_type": "code",
   "execution_count": null,
   "metadata": {},
   "outputs": [],
   "source": [
    "print((0.1 + 0.1 + 0.1) == 0.3)\n"
   ]
  },
  {
   "cell_type": "code",
   "execution_count": null,
   "metadata": {},
   "outputs": [],
   "source": [
    "print(123_9389_23) #The '_' will be ignored by the compiler ! and prints this out_put---->{123938923}\n"
   ]
  },
  {
   "cell_type": "code",
   "execution_count": null,
   "metadata": {},
   "outputs": [],
   "source": [
    "k1 = '234_45_12'\n",
    "print(int(k1))"
   ]
  },
  {
   "cell_type": "code",
   "execution_count": null,
   "metadata": {},
   "outputs": [],
   "source": [
    "kk ='99_0_'\n",
    "print(int(kk))"
   ]
  },
  {
   "cell_type": "code",
   "execution_count": null,
   "metadata": {},
   "outputs": [],
   "source": [
    "import functools\n",
    "\n",
    "k1 = input(\"Enter the number : \")\n",
    "print(list(k1))\n",
    "print(functools.reduce(lambda x,y: int(x)+int(y),list(k1)))"
   ]
  },
  {
   "cell_type": "code",
   "execution_count": null,
   "metadata": {},
   "outputs": [],
   "source": [
    "print(3+3*3/3-3) \n",
    "print(3*3+3/3-3)#In this the asthmatic order is taken place using the 'PEMDAS' and ' left to right ' (),**,{*,/},{+,-} and also the process takes place from L---> R\n",
    "print(round(5.8789,2)) #This will give a round value at two decimal places ! --> 5.88\n",
    "print(4/2)#--> 2.0 a float\n",
    "print(4//2)#--> 2 a int in this '//' is a flor division which given the int !"
   ]
  },
  {
   "cell_type": "code",
   "execution_count": null,
   "metadata": {},
   "outputs": [],
   "source": [
    "height = input('Your height is :')\n",
    "weight = input('Your weight is :')\n",
    "weight_as_int = int(weight)\n",
    "height_as_float = float(height) \n",
    "BMI = weight_as_int / height_as_float **2\n",
    "\n",
    "print(f'Your BMI readings are : {int(BMI)}')"
   ]
  },
  {
   "cell_type": "code",
   "execution_count": null,
   "metadata": {},
   "outputs": [],
   "source": [
    "#  --> no of weeks in your life !\n",
    "age = int(input())\n",
    "year = 90 - age\n",
    "weeks = year * 52\n",
    "print(f'you have {weeks} weeks !')"
   ]
  },
  {
   "cell_type": "markdown",
   "metadata": {},
   "source": [
    "### 🐍DAY - 3"
   ]
  },
  {
   "cell_type": "code",
   "execution_count": null,
   "metadata": {},
   "outputs": [],
   "source": [
    "if ((1.0+1.0+1.0) == 3.0):\n",
    "    print('it\\'s equal')\n",
    "else:\n",
    "    print('it is not equal!')\n",
    "\n",
    "    "
   ]
  },
  {
   "cell_type": "code",
   "execution_count": null,
   "metadata": {},
   "outputs": [],
   "source": [
    "tolerance = 1e-10  # Define a tolerance level for comparison\n",
    "\n",
    "if abs((1.0 + 1.0 + 1.0) - 3.0) < tolerance:\n",
    "    print('Approximately equal')\n",
    "else:\n",
    "    print('Not equal')\n"
   ]
  },
  {
   "cell_type": "code",
   "execution_count": null,
   "metadata": {},
   "outputs": [],
   "source": [
    "k1 = int(input(\"Enter the number :- \"))\n",
    "k2 = str(k1)\n",
    "k3 = sum(int(i) for i in k2)\n",
    "print(k3)"
   ]
  },
  {
   "cell_type": "code",
   "execution_count": null,
   "metadata": {},
   "outputs": [],
   "source": [
    "def sum_of_digits(number):\n",
    "    digit_sum = 0\n",
    "    while number > 0:\n",
    "        digit_sum += number % 10  # Add the rightmost digit to the sum\n",
    "        number //= 10  # Remove the rightmost digit\n",
    "    return digit_sum\n",
    "\n",
    "# Example usage:\n",
    "number = int(input(\"Enter the number :- \"))\n",
    "result = sum_of_digits(number)\n",
    "print(f\"The sum of digits in the number {number} is: {result}\")\n"
   ]
  },
  {
   "cell_type": "code",
   "execution_count": null,
   "metadata": {},
   "outputs": [],
   "source": [
    "k1 = 123\n",
    "while k1>0:\n",
    "    print(k1%10)#This will give the last number in the given number !\n",
    "    k1 = k1//10#This will give the remaining numbers other than the last number !\n",
    "    "
   ]
  },
  {
   "cell_type": "code",
   "execution_count": null,
   "metadata": {},
   "outputs": [],
   "source": [
    "height = float(input('Enter your height!'))\n",
    "weight = int(input('Enter your weight!'))\n",
    "bmi = weight/(height**2)\n",
    "if bmi <18.5:\n",
    "    print(f'Your BMI is {bmi}, you are underweight')\n",
    "elif bmi <25:\n",
    "    print(f\"your BMI is {bmi}, you have a normal weight\")\n",
    "elif bmi < 30:\n",
    "    print(f\"Your BMI is {bmi}, you are slightly overweight\")\n",
    "elif bmi <35:\n",
    "    print(f\"Your BMI is {bmi}, you are obese\")\n",
    "else:\n",
    "    print(f\"your BMI iis {bmi}, you are clinically obese!\")"
   ]
  },
  {
   "cell_type": "code",
   "execution_count": null,
   "metadata": {},
   "outputs": [],
   "source": [
    "## The given year is a leap year or not !\n",
    "year = int(input(\"Enter the year:- \"))\n",
    "if year%4 == 0:\n",
    "    if year%100 !=0:\n",
    "        print (\"The given year is a leap year\")\n",
    "    else:\n",
    "        if year%400 ==0:\n",
    "            print(\"The given year is a leap year\")\n",
    "        else:\n",
    "            print(\"The given year is not a leap year!\")\n",
    "else:\n",
    "    print(\"The given year is not a leap year!\")        "
   ]
  },
  {
   "cell_type": "code",
   "execution_count": null,
   "metadata": {},
   "outputs": [],
   "source": [
    "## The given year is a leap year or not !\n",
    "year = int(input(\"Enter the year:- \"))\n",
    "if (year%4 ==0 and year%100 !=0) or (year%4 ==0 and year%100 ==0 and year%400 ==0):\n",
    "    print('it is a leap year !')\n",
    "else:\n",
    "    print(\"it is not a leap year !\")"
   ]
  },
  {
   "cell_type": "code",
   "execution_count": null,
   "metadata": {},
   "outputs": [],
   "source": [
    "#Rollercoaster Ticket counter !\n",
    "print('Welcome to rollercoaster!')\n",
    "h = int(input('Enter your height :- '))\n",
    "bill = 0\n",
    "if h >= 120:\n",
    "    print('you can ride the rollercoaster!')\n",
    "    age = int(input(\"Enter your age :- \"))\n",
    "    if age <12:\n",
    "        bill = 5\n",
    "        print('child tickets are $5.')\n",
    "    elif age <=18:\n",
    "        bill = 7\n",
    "        print('youth tickets are $7.')\n",
    "    elif age >=45 and age <= 55:\n",
    "        bill = 0\n",
    "        print('senior citizen tickets are free.')\n",
    "    else:\n",
    "        bill = 12\n",
    "        print('Adult tickets are $12.')\n",
    "    ph = input(\"Do u want a pic :- \")\n",
    "    if ph in ['Y','y','Yes','yes','YES']:\n",
    "        bill += 3\n",
    "\n",
    "    print(f\"your final BIll is {bill}\")\n",
    "\n",
    "else:\n",
    "    print(\"sorry you cannot ride in rollercoaster ! :( \")\n"
   ]
  },
  {
   "cell_type": "markdown",
   "metadata": {},
   "source": [
    "### 🐍DAY - 4"
   ]
  },
  {
   "cell_type": "code",
   "execution_count": null,
   "metadata": {},
   "outputs": [],
   "source": [
    "import random as rd #This is a python module !\n",
    "ran_mod = rd.randint(1,10)\n",
    "print(ran_mod)"
   ]
  },
  {
   "cell_type": "code",
   "execution_count": null,
   "metadata": {},
   "outputs": [],
   "source": [
    "import random as rd\n",
    "ran_fl = rd.random()#This will give a random float value between 0 and 1 but inclusive of 0 but exclusive of 1 !\n",
    "print(ran_fl)"
   ]
  },
  {
   "cell_type": "code",
   "execution_count": null,
   "metadata": {},
   "outputs": [],
   "source": [
    "import random as rd\n",
    "wh = rd.randint(0,1)#Generates a random integer within the specified range !\n",
    "if wh == 0:\n",
    "    print('Heads!')\n",
    "else:\n",
    "    print('Tails!')"
   ]
  },
  {
   "cell_type": "code",
   "execution_count": null,
   "metadata": {},
   "outputs": [],
   "source": [
    "names=['vinay','kumar','vinay','sai','raj']\n",
    "print(names.count('vinay'))\n",
    "print(names.index('vinay'))\n",
    "names.insert(2,'sumanth')\n",
    "print(names.pop(2))\n",
    "names.remove('vinay')\n",
    "names.clear()\n",
    "print(names)\n"
   ]
  },
  {
   "cell_type": "code",
   "execution_count": null,
   "metadata": {},
   "outputs": [],
   "source": [
    "#Random person in a list!\n",
    "import random as rd\n",
    "k1 = input('Enter your names :- ').split(',')\n",
    "k2 = rd.choice(k1)#Returns a randomly selected element from a non-empty sequence (list, tuple, etc.).!\n",
    "print(k2)"
   ]
  },
  {
   "cell_type": "code",
   "execution_count": null,
   "metadata": {},
   "outputs": [],
   "source": [
    "names=['vinay','kumar','vinay','sai','raj']\n",
    "print(rd.uniform(1,4))#It returns a floating point number in the given range !\n",
    "print(rd.randrange(5, 9))\n",
    "print(rd.sample(names,2))#Returns a k length list of unique elements chosen from the population sequence without replacement (where k <= len(population)).!\n",
    "print(rd.shuffle(names)) #Shuffles the elements of a sequence x in place.!\n",
    "print(names)#This is the newly shuffled list !"
   ]
  },
  {
   "cell_type": "code",
   "execution_count": null,
   "metadata": {},
   "outputs": [],
   "source": [
    "l1 = [' ',' ',' ']\n",
    "l2 = [' ',' ',' ']\n",
    "l3 = [' ',' ',' ']\n",
    "map=[l1,l2,l3]\n",
    "p1 = input('select any alphabets among this \"a,b,c\" :- ').lower()\n",
    "p2 = int(input('select any number among this \"1,2,3\" :- '))\n",
    "al = ['a','b','c']\n",
    "nm = [1,2,3]\n",
    "if p1 in al and p2 in nm:\n",
    "    k1 = al.index(str(p1))\n",
    "    k2 = nm.index(p2)\n",
    "\n",
    "    map[k1][k2]='X'\n",
    "    print(f\"{l1}\\n{l2}\\n{l3}\")"
   ]
  },
  {
   "cell_type": "code",
   "execution_count": null,
   "metadata": {},
   "outputs": [],
   "source": [
    "#MY rock paper scissors Game !\n",
    "\n",
    "import random as rd\n",
    "rock = \"\"\"\n",
    "    _______\n",
    "---'   ____)\n",
    "      (_____)\n",
    "      (_____)\n",
    "      (____)\n",
    "---.__(___)\n",
    "\"\"\"\n",
    "paper = \"\"\"\n",
    "     _______\n",
    "---'    ____)____\n",
    "           ______)\n",
    "          _______)\n",
    "         _______)\n",
    "---.__________)\n",
    "\"\"\"\n",
    "scissors = \"\"\"\n",
    "    _______\n",
    "---'   ____)____\n",
    "          ______)\n",
    "       __________)\n",
    "      (____)\n",
    "---.__(___)\n",
    "\"\"\"\n",
    "modes = [rock, paper,scissors]\n",
    "print(\"____Welcome to the Rock Paper Scissor Game !____\")\n",
    "us_c = int(input('Enter your chose among rock -->0, paper -->1 and scissor -->2 :-'))\n",
    "cp_c = rd.randint(0,2)\n",
    "if us_c >=3:\n",
    "    print('You Have chosen an invalid choice so please play the game correctly!')\n",
    "else:\n",
    "    print(f'YOUR CHOICE IS \\n{modes[us_c]}')\n",
    "    print(\"AND\")\n",
    "    print(f'COMPUTER CHOICE IS \\n{modes[cp_c]}')\n",
    "    if us_c ==2 and cp_c == 0:\n",
    "        \n",
    "        print('You have lost the game !')\n",
    "    elif us_c > cp_c:\n",
    "        print('You have won the game !')\n",
    "    elif cp_c > us_c:\n",
    "        print(\"You have lost the game !\")\n",
    "    elif us_c == cp_c:\n",
    "        print(\"The Game is Draw !\")\n",
    "\n",
    "    "
   ]
  },
  {
   "cell_type": "markdown",
   "metadata": {},
   "source": [
    "### 🐍DAY - 5"
   ]
  },
  {
   "cell_type": "code",
   "execution_count": null,
   "metadata": {},
   "outputs": [],
   "source": [
    "k1 = [23,53,532,7,6,456,334,275,974,4355,3564,8645,64534,86474,75345]\n",
    "k2 = 0\n",
    "for i in k1:\n",
    "    if k2<i:\n",
    "        k2 = i\n",
    "print(k2)\n",
    "print(max(k1))"
   ]
  },
  {
   "cell_type": "code",
   "execution_count": null,
   "metadata": {},
   "outputs": [],
   "source": [
    "#FizzBuzz Game !\n",
    "lms =[]\n",
    "lkl ={}\n",
    "for i in range(1,101):\n",
    "    if i%3==0 and i%5==0:\n",
    "        print('FizzBuzz')\n",
    "        lms.append('FizzBuzz')\n",
    "        lkl[i]='FizzBuzz'\n",
    "    elif i%5==0:\n",
    "        print('Buzz')\n",
    "        lms.append('Buzz')\n",
    "        lkl[i]='Buzz'\n",
    "    elif i%3==0:\n",
    "        print('Fizz')\n",
    "        lms.append('Fizz')\n",
    "        lkl[i]='Fizz'\n",
    "    else:\n",
    "        print(i)\n",
    "        lms.append(i)\n",
    "        lkl[i]=i\n",
    "print(lms)\n",
    "print(lkl)"
   ]
  },
  {
   "cell_type": "code",
   "execution_count": null,
   "metadata": {},
   "outputs": [],
   "source": [
    "#Password Generator !\n",
    "import random as rd\n",
    "\n",
    "alp = ['A', 'B', 'C', 'D', 'E', 'F', 'G', 'H', 'I', 'J', 'K', 'L', 'M', 'N', 'O', 'P', 'Q', 'R', 'S', 'T', 'U', 'V', 'W', 'X', 'Y', 'Z']\n",
    "dig = [\"0\",'1','2','3','4','5','6','7','8','9']\n",
    "sym = ['!','#','$','%','&','(',')','*','+']\n",
    "\n",
    "print(\"____WELCOME TO THE PASSWORD GENERATOR____\")\n",
    "n_l =int(input(\"Enter how many number of letters do u need :- \"))\n",
    "n_s =int(input(\"Enter how many number of symbols do u need :- \"))\n",
    "n_d =int(input(\"Enter how many number of digits do u need :- \"))\n",
    "\n",
    "password = []\n",
    "for i in range(1,n_l+1):\n",
    "    password.append(rd.choice(alp))\n",
    "for i in range(1,n_s+1):\n",
    "    password.append(rd.choice(sym))\n",
    "for i in range(1,n_d-1):\n",
    "    password.append(rd.choice(dig))\n",
    "rd.shuffle(password)\n",
    "print(\"\".join(password))#Randomly sheffield password !\n"
   ]
  },
  {
   "cell_type": "markdown",
   "metadata": {},
   "source": [
    "### 🐍DAY - 7"
   ]
  },
  {
   "cell_type": "markdown",
   "metadata": {},
   "source": [
    "##### This below flow chart will give the idea of creating the hang man game ~"
   ]
  },
  {
   "cell_type": "markdown",
   "metadata": {},
   "source": [
    "![yep](HangMan_Game_Flow_Diagram!.png)"
   ]
  },
  {
   "cell_type": "code",
   "execution_count": null,
   "metadata": {},
   "outputs": [],
   "source": [
    "import requests\n",
    "stages = ['''\n",
    "  +---+\n",
    "  |   |\n",
    "  O   |\n",
    " /|\\  |\n",
    " / \\  |\n",
    "      |\n",
    "=========\n",
    "''', '''\n",
    "  +---+\n",
    "  |   |\n",
    "  O   |\n",
    " /|\\  |\n",
    " /    |\n",
    "      |\n",
    "=========\n",
    "''', '''\n",
    "  +---+\n",
    "  |   |\n",
    "  O   |\n",
    " /|\\  |\n",
    "      |\n",
    "      |\n",
    "=========\n",
    "''', '''\n",
    "  +---+\n",
    "  |   |\n",
    "  O   |\n",
    " /|   |\n",
    "      |\n",
    "      |\n",
    "=========''', '''\n",
    "  +---+\n",
    "  |   |\n",
    "  O   |\n",
    "  |   |\n",
    "      |\n",
    "      |\n",
    "=========\n",
    "''', '''\n",
    "  +---+\n",
    "  |   |\n",
    "  O   |\n",
    "      |\n",
    "      |\n",
    "      |\n",
    "=========\n",
    "''', '''\n",
    "  +---+\n",
    "  |   |\n",
    "      |\n",
    "      |\n",
    "      |\n",
    "      |\n",
    "=========\n",
    "''']\n",
    "f1 = ['''\n",
    "      \n",
    " _   _                     __  __             _ \n",
    "| | | | __ _ _ __   __ _  |  \\/  | __ _ _ __ | |\n",
    "| |_| |/ _` | '_ \\ / _` | | |\\/| |/ _` | '_ \\| |\n",
    "|  _  | (_| | | | | (_| | | |  | | (_| | | | |_|\n",
    "|_| |_|\\__,_|_| |_|\\__, | |_|  |_|\\__,_|_| |_(_)\n",
    "                   |___/    \n",
    "\n",
    "''']\n",
    "f2 = [\"\"\"\n",
    "      \n",
    "__   __               _               ____  _             _               _   _                   __  __                ____                        _ \n",
    "\\ \\ / /__  _   _     / \\   _ __ ___  |  _ \\| | __ _ _   _(_)_ __   __ _  | | | | __ _ _ __   __ _|  \\/  | __ _ _ __    / ___| __ _ _ __ ___   ___  | |\n",
    " \\ V / _ \\| | | |   / _ \\ | '__/ _ \\ | |_) | |/ _` | | | | | '_ \\ / _` | | |_| |/ _` | '_ \\ / _` | |\\/| |/ _` | '_ \\  | |  _ / _` | '_ ` _ \\ / _ \\ | |\n",
    "  | | (_) | |_| |  / ___ \\| | |  __/ |  __/| | (_| | |_| | | | | | (_| | |  _  | (_| | | | | (_| | |  | | (_| | | | | | |_| | (_| | | | | | |  __/ |_|\n",
    "  |_|\\___/ \\__,_| /_/   \\_\\_|  \\___| |_|   |_|\\__,_|\\__, |_|_| |_|\\__, | |_| |_|\\__,_|_| |_|\\__, |_|  |_|\\__,_|_| |_|  \\____|\\__,_|_| |_| |_|\\___| (_)\n",
    "                                                    |___/         |___/                     |___/                                                     \n",
    "\n",
    "\"\"\"]\n",
    "print(f1)\n",
    "# print(f2)\n",
    "def get_random_word():\n",
    "    url = \"https://random-word-api.herokuapp.com/word\"\n",
    "    response = requests.get(url)\n",
    "    if response.status_code == 200:\n",
    "        random_word = response.json()[0]\n",
    "        return random_word\n",
    "    else:\n",
    "        print(\"Failed to get random word:\", response.text)\n",
    "        return None\n",
    "def guss(word:str):\n",
    "    print(word)\n",
    "    blank = ['_']*len(word)\n",
    "    print(blank)\n",
    "    lives = 6\n",
    "    while '_' in blank:\n",
    "        x = input('Guess the Letter:-')\n",
    "        print(f\"You have Guessed the letter {x}\")\n",
    "        if x in blank:\n",
    "            print(f'You have already guessed the letter {x} try again')  \n",
    "        if lives == 0:\n",
    "            print('You are Dead')\n",
    "            print(\"GAME OVER\")\n",
    "            print(stages[lives])\n",
    "            break\n",
    "        if x not in word:\n",
    "            print(f\"You Guessed {x}, that's is not in the word. You lose a life!\")\n",
    "            print(f'You have only {lives} lives to go.')\n",
    "            print(stages[lives])\n",
    "            lives -= 1\n",
    "        \n",
    "        \n",
    "        for i in range(len(word)):\n",
    "            if word[i] == x:\n",
    "                blank[i] = x\n",
    "        print(blank)\n",
    "    if '_' not in blank:\n",
    "        print(\"You Have Guessed The Word Correctly\")\n",
    "        print('You Have Won The Game !')    \n",
    "\n",
    "if __name__ == \"__main__\":\n",
    "    random_word = get_random_word()\n",
    "    # print(random_word)\n",
    "    guss(random_word)\n"
   ]
  },
  {
   "cell_type": "markdown",
   "metadata": {},
   "source": [
    "### 🐍DAY - 8"
   ]
  },
  {
   "cell_type": "markdown",
   "metadata": {},
   "source": [
    "#### Now we will know the Functions In the Python !"
   ]
  },
  {
   "cell_type": "code",
   "execution_count": null,
   "metadata": {},
   "outputs": [],
   "source": [
    "# Now we will learn about the Functions in python!\n",
    "\n",
    "def gree(name:str = \"Jb\",age:int=23):# For this i have given the default data if no data is provided !\n",
    "    print(f'Hello {name}')\n",
    "    print(f\"How do u do today {name}\")\n",
    "    print(f\"I am {age} years old\")\n",
    "\n",
    "gree(age = 22,name =\"vinay\")\n",
    "# This is how we can give the positional argument to the function with confusion !\n"
   ]
  },
  {
   "cell_type": "code",
   "execution_count": null,
   "metadata": {},
   "outputs": [],
   "source": [
    "# How many paints that we need !\n",
    "import math\n",
    "def Paint_cans(i:int,j:int):\n",
    "    k = (1 * j)/5\n",
    "    return math.ceil(k)\n",
    "\n",
    "height,width = map(int,input(\"Enter the height and width of the painting area separated by a space : \").split())\n",
    "print(f\"The no of paint can's that we need is : { Paint_cans(height,width)}\")\n"
   ]
  },
  {
   "cell_type": "code",
   "execution_count": null,
   "metadata": {},
   "outputs": [],
   "source": [
    "#Fastest way to find the prime numbers it's time complexity is O(n log log n) and also it is called as  Sieve of Eratosthenes algorithm\n",
    "def sieve_of_eratosthenes(n):\n",
    "    prime = [True for _ in range(n+1)]\n",
    "    p = 2\n",
    "    while p * p <= n:\n",
    "        if prime[p]:\n",
    "            for i in range(p * p, n+1, p):\n",
    "                prime[i] = False\n",
    "        p += 1\n",
    "    return [i for i in range(2, n+1) if prime[i]]\n",
    "\n",
    "def find_primes_in_list(numbers):\n",
    "    max_number = max(numbers)\n",
    "    primes = sieve_of_eratosthenes(max_number)\n",
    "    return [num for num in numbers if num in primes]\n",
    "\n",
    "# Example usage:\n",
    "numbers = [i for i in range(1,101)]\n",
    "prime_numbers = find_primes_in_list(numbers)\n",
    "print(\"Prime numbers in the list:\", prime_numbers)\n"
   ]
  },
  {
   "cell_type": "code",
   "execution_count": null,
   "metadata": {},
   "outputs": [],
   "source": [
    "\n",
    "n = int(input(\"Enter the max number range that u need the prime number range : \"))\n",
    "k1 = [True for i in range(n+1)]\n",
    "p = 2\n",
    "\n",
    "while p*p <= n:\n",
    "    if k1[p]:\n",
    "        for i in range(p * p, n+1, p):\n",
    "            k1[i] = False\n",
    "    p +=1\n",
    "print([i for i in range(2, n+1) if k1[i]])"
   ]
  },
  {
   "cell_type": "markdown",
   "metadata": {},
   "source": [
    "### 🐍DAY - 9"
   ]
  },
  {
   "cell_type": "code",
   "execution_count": null,
   "metadata": {},
   "outputs": [],
   "source": []
  }
 ],
 "metadata": {
  "kernelspec": {
   "display_name": "Python 3",
   "language": "python",
   "name": "python3"
  },
  "language_info": {
   "codemirror_mode": {
    "name": "ipython",
    "version": 3
   },
   "file_extension": ".py",
   "mimetype": "text/x-python",
   "name": "python",
   "nbconvert_exporter": "python",
   "pygments_lexer": "ipython3",
   "version": "3.11.4"
  }
 },
 "nbformat": 4,
 "nbformat_minor": 2
}
